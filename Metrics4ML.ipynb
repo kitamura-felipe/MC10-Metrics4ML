{
  "nbformat": 4,
  "nbformat_minor": 0,
  "metadata": {
    "colab": {
      "name": "Metrics4ML.ipynb",
      "provenance": [],
      "collapsed_sections": [],
      "include_colab_link": true
    },
    "kernelspec": {
      "name": "python3",
      "display_name": "Python 3"
    },
    "widgets": {
      "application/vnd.jupyter.widget-state+json": {
        "32dcecb0067b4cb28e3d95f668ab9723": {
          "model_module": "@jupyter-widgets/controls",
          "model_name": "IntSliderModel",
          "state": {
            "_view_name": "IntSliderView",
            "style": "IPY_MODEL_ac81511f4d654df6b19ba7d3c64515cd",
            "_dom_classes": [],
            "description": "",
            "step": 1,
            "_model_name": "IntSliderModel",
            "orientation": "horizontal",
            "max": 100,
            "_view_module": "@jupyter-widgets/controls",
            "_model_module_version": "1.5.0",
            "value": 22,
            "_view_count": null,
            "disabled": false,
            "_view_module_version": "1.5.0",
            "min": 0,
            "continuous_update": true,
            "readout_format": "d",
            "description_tooltip": null,
            "readout": true,
            "_model_module": "@jupyter-widgets/controls",
            "layout": "IPY_MODEL_d0754f3f4dcc4da2acb40050904bbc5a"
          }
        },
        "ac81511f4d654df6b19ba7d3c64515cd": {
          "model_module": "@jupyter-widgets/controls",
          "model_name": "SliderStyleModel",
          "state": {
            "_view_name": "StyleView",
            "handle_color": null,
            "_model_name": "SliderStyleModel",
            "description_width": "",
            "_view_module": "@jupyter-widgets/base",
            "_model_module_version": "1.5.0",
            "_view_count": null,
            "_view_module_version": "1.2.0",
            "_model_module": "@jupyter-widgets/controls"
          }
        },
        "d0754f3f4dcc4da2acb40050904bbc5a": {
          "model_module": "@jupyter-widgets/base",
          "model_name": "LayoutModel",
          "state": {
            "_view_name": "LayoutView",
            "grid_template_rows": null,
            "right": null,
            "justify_content": null,
            "_view_module": "@jupyter-widgets/base",
            "overflow": null,
            "_model_module_version": "1.2.0",
            "_view_count": null,
            "flex_flow": null,
            "width": null,
            "min_width": null,
            "border": null,
            "align_items": null,
            "bottom": null,
            "_model_module": "@jupyter-widgets/base",
            "top": null,
            "grid_column": null,
            "overflow_y": null,
            "overflow_x": null,
            "grid_auto_flow": null,
            "grid_area": null,
            "grid_template_columns": null,
            "flex": null,
            "_model_name": "LayoutModel",
            "justify_items": null,
            "grid_row": null,
            "max_height": null,
            "align_content": null,
            "visibility": null,
            "align_self": null,
            "height": null,
            "min_height": null,
            "padding": null,
            "grid_auto_rows": null,
            "grid_gap": null,
            "max_width": null,
            "order": null,
            "_view_module_version": "1.2.0",
            "grid_template_areas": null,
            "object_position": null,
            "object_fit": null,
            "grid_auto_columns": null,
            "margin": null,
            "display": null,
            "left": null
          }
        },
        "6ae40b90ad734f938a6c1b772df3aba4": {
          "model_module": "@jupyter-widgets/controls",
          "model_name": "ButtonModel",
          "state": {
            "_view_name": "ButtonView",
            "style": "IPY_MODEL_1e82a5aac774414c93d2b8f1ed4556fa",
            "_dom_classes": [],
            "description": "Calculate",
            "_model_name": "ButtonModel",
            "button_style": "",
            "_view_module": "@jupyter-widgets/controls",
            "_model_module_version": "1.5.0",
            "tooltip": "",
            "_view_count": null,
            "disabled": false,
            "_view_module_version": "1.5.0",
            "layout": "IPY_MODEL_12a682286df9481b97e5f03f7c377cee",
            "_model_module": "@jupyter-widgets/controls",
            "icon": ""
          }
        },
        "1e82a5aac774414c93d2b8f1ed4556fa": {
          "model_module": "@jupyter-widgets/controls",
          "model_name": "ButtonStyleModel",
          "state": {
            "_view_name": "StyleView",
            "_model_name": "ButtonStyleModel",
            "_view_module": "@jupyter-widgets/base",
            "_model_module_version": "1.5.0",
            "_view_count": null,
            "button_color": null,
            "font_weight": "",
            "_view_module_version": "1.2.0",
            "_model_module": "@jupyter-widgets/controls"
          }
        },
        "12a682286df9481b97e5f03f7c377cee": {
          "model_module": "@jupyter-widgets/base",
          "model_name": "LayoutModel",
          "state": {
            "_view_name": "LayoutView",
            "grid_template_rows": null,
            "right": null,
            "justify_content": null,
            "_view_module": "@jupyter-widgets/base",
            "overflow": null,
            "_model_module_version": "1.2.0",
            "_view_count": null,
            "flex_flow": null,
            "width": null,
            "min_width": null,
            "border": null,
            "align_items": null,
            "bottom": null,
            "_model_module": "@jupyter-widgets/base",
            "top": null,
            "grid_column": null,
            "overflow_y": null,
            "overflow_x": null,
            "grid_auto_flow": null,
            "grid_area": null,
            "grid_template_columns": null,
            "flex": null,
            "_model_name": "LayoutModel",
            "justify_items": null,
            "grid_row": null,
            "max_height": null,
            "align_content": null,
            "visibility": null,
            "align_self": null,
            "height": null,
            "min_height": null,
            "padding": null,
            "grid_auto_rows": null,
            "grid_gap": null,
            "max_width": null,
            "order": null,
            "_view_module_version": "1.2.0",
            "grid_template_areas": null,
            "object_position": null,
            "object_fit": null,
            "grid_auto_columns": null,
            "margin": null,
            "display": null,
            "left": null
          }
        },
        "f80d357a6b38499aa40faa757b8b3d4e": {
          "model_module": "@jupyter-widgets/output",
          "model_name": "OutputModel",
          "state": {
            "_view_name": "OutputView",
            "msg_id": "",
            "_dom_classes": [],
            "_model_name": "OutputModel",
            "outputs": [
              {
                "output_type": "stream",
                "metadata": {
                  "tags": []
                },
                "text": "Threshold: 0.22\n",
                "stream": "stdout"
              },
              {
                "output_type": "display_data",
                "metadata": {
                  "tags": [],
                  "needs_background": "light"
                },
                "image/png": "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\n",
                "text/plain": "<Figure size 432x288 with 2 Axes>"
              },
              {
                "output_type": "stream",
                "metadata": {
                  "tags": []
                },
                "text": "Sensitivity: 0.7959183673469388\nSpecificity: 0.8469945355191257\nPrecision: 0.4105263157894737\nAccuracy: 0.8409638554216867\nF1-score: 0.5416666666666666\n",
                "stream": "stdout"
              }
            ],
            "_view_module": "@jupyter-widgets/output",
            "_model_module_version": "1.0.0",
            "_view_count": null,
            "_view_module_version": "1.0.0",
            "layout": "IPY_MODEL_34049c940bae4e14a1069f9a62ef639b",
            "_model_module": "@jupyter-widgets/output"
          }
        },
        "34049c940bae4e14a1069f9a62ef639b": {
          "model_module": "@jupyter-widgets/base",
          "model_name": "LayoutModel",
          "state": {
            "_view_name": "LayoutView",
            "grid_template_rows": null,
            "right": null,
            "justify_content": null,
            "_view_module": "@jupyter-widgets/base",
            "overflow": null,
            "_model_module_version": "1.2.0",
            "_view_count": null,
            "flex_flow": null,
            "width": null,
            "min_width": null,
            "border": null,
            "align_items": null,
            "bottom": null,
            "_model_module": "@jupyter-widgets/base",
            "top": null,
            "grid_column": null,
            "overflow_y": null,
            "overflow_x": null,
            "grid_auto_flow": null,
            "grid_area": null,
            "grid_template_columns": null,
            "flex": null,
            "_model_name": "LayoutModel",
            "justify_items": null,
            "grid_row": null,
            "max_height": null,
            "align_content": null,
            "visibility": null,
            "align_self": null,
            "height": null,
            "min_height": null,
            "padding": null,
            "grid_auto_rows": null,
            "grid_gap": null,
            "max_width": null,
            "order": null,
            "_view_module_version": "1.2.0",
            "grid_template_areas": null,
            "object_position": null,
            "object_fit": null,
            "grid_auto_columns": null,
            "margin": null,
            "display": null,
            "left": null
          }
        },
        "eadec8335437446a828726153c2d2790": {
          "model_module": "@jupyter-widgets/controls",
          "model_name": "IntSliderModel",
          "state": {
            "_view_name": "IntSliderView",
            "style": "IPY_MODEL_1e9ff05e42a546818aa08e1a91811859",
            "_dom_classes": [],
            "description": "",
            "step": 1,
            "_model_name": "IntSliderModel",
            "orientation": "horizontal",
            "max": 100,
            "_view_module": "@jupyter-widgets/controls",
            "_model_module_version": "1.5.0",
            "value": 50,
            "_view_count": null,
            "disabled": false,
            "_view_module_version": "1.5.0",
            "min": 0,
            "continuous_update": true,
            "readout_format": "d",
            "description_tooltip": null,
            "readout": true,
            "_model_module": "@jupyter-widgets/controls",
            "layout": "IPY_MODEL_7a09bb6c6462413985d6233dca7ec7dc"
          }
        },
        "1e9ff05e42a546818aa08e1a91811859": {
          "model_module": "@jupyter-widgets/controls",
          "model_name": "SliderStyleModel",
          "state": {
            "_view_name": "StyleView",
            "handle_color": null,
            "_model_name": "SliderStyleModel",
            "description_width": "",
            "_view_module": "@jupyter-widgets/base",
            "_model_module_version": "1.5.0",
            "_view_count": null,
            "_view_module_version": "1.2.0",
            "_model_module": "@jupyter-widgets/controls"
          }
        },
        "7a09bb6c6462413985d6233dca7ec7dc": {
          "model_module": "@jupyter-widgets/base",
          "model_name": "LayoutModel",
          "state": {
            "_view_name": "LayoutView",
            "grid_template_rows": null,
            "right": null,
            "justify_content": null,
            "_view_module": "@jupyter-widgets/base",
            "overflow": null,
            "_model_module_version": "1.2.0",
            "_view_count": null,
            "flex_flow": null,
            "width": null,
            "min_width": null,
            "border": null,
            "align_items": null,
            "bottom": null,
            "_model_module": "@jupyter-widgets/base",
            "top": null,
            "grid_column": null,
            "overflow_y": null,
            "overflow_x": null,
            "grid_auto_flow": null,
            "grid_area": null,
            "grid_template_columns": null,
            "flex": null,
            "_model_name": "LayoutModel",
            "justify_items": null,
            "grid_row": null,
            "max_height": null,
            "align_content": null,
            "visibility": null,
            "align_self": null,
            "height": null,
            "min_height": null,
            "padding": null,
            "grid_auto_rows": null,
            "grid_gap": null,
            "max_width": null,
            "order": null,
            "_view_module_version": "1.2.0",
            "grid_template_areas": null,
            "object_position": null,
            "object_fit": null,
            "grid_auto_columns": null,
            "margin": null,
            "display": null,
            "left": null
          }
        },
        "200ff50810194ad88ac37c17f66c14fe": {
          "model_module": "@jupyter-widgets/controls",
          "model_name": "ButtonModel",
          "state": {
            "_view_name": "ButtonView",
            "style": "IPY_MODEL_30e06375a9af4b22977961216c853870",
            "_dom_classes": [],
            "description": "Calculate",
            "_model_name": "ButtonModel",
            "button_style": "",
            "_view_module": "@jupyter-widgets/controls",
            "_model_module_version": "1.5.0",
            "tooltip": "",
            "_view_count": null,
            "disabled": false,
            "_view_module_version": "1.5.0",
            "layout": "IPY_MODEL_b13f7f227d2e401b9caa935c25855a87",
            "_model_module": "@jupyter-widgets/controls",
            "icon": ""
          }
        },
        "30e06375a9af4b22977961216c853870": {
          "model_module": "@jupyter-widgets/controls",
          "model_name": "ButtonStyleModel",
          "state": {
            "_view_name": "StyleView",
            "_model_name": "ButtonStyleModel",
            "_view_module": "@jupyter-widgets/base",
            "_model_module_version": "1.5.0",
            "_view_count": null,
            "button_color": null,
            "font_weight": "",
            "_view_module_version": "1.2.0",
            "_model_module": "@jupyter-widgets/controls"
          }
        },
        "b13f7f227d2e401b9caa935c25855a87": {
          "model_module": "@jupyter-widgets/base",
          "model_name": "LayoutModel",
          "state": {
            "_view_name": "LayoutView",
            "grid_template_rows": null,
            "right": null,
            "justify_content": null,
            "_view_module": "@jupyter-widgets/base",
            "overflow": null,
            "_model_module_version": "1.2.0",
            "_view_count": null,
            "flex_flow": null,
            "width": null,
            "min_width": null,
            "border": null,
            "align_items": null,
            "bottom": null,
            "_model_module": "@jupyter-widgets/base",
            "top": null,
            "grid_column": null,
            "overflow_y": null,
            "overflow_x": null,
            "grid_auto_flow": null,
            "grid_area": null,
            "grid_template_columns": null,
            "flex": null,
            "_model_name": "LayoutModel",
            "justify_items": null,
            "grid_row": null,
            "max_height": null,
            "align_content": null,
            "visibility": null,
            "align_self": null,
            "height": null,
            "min_height": null,
            "padding": null,
            "grid_auto_rows": null,
            "grid_gap": null,
            "max_width": null,
            "order": null,
            "_view_module_version": "1.2.0",
            "grid_template_areas": null,
            "object_position": null,
            "object_fit": null,
            "grid_auto_columns": null,
            "margin": null,
            "display": null,
            "left": null
          }
        },
        "80546b8654534792b9af57eb6770fecd": {
          "model_module": "@jupyter-widgets/output",
          "model_name": "OutputModel",
          "state": {
            "_view_name": "OutputView",
            "msg_id": "",
            "_dom_classes": [],
            "_model_name": "OutputModel",
            "outputs": [
              {
                "output_type": "display_data",
                "metadata": {
                  "tags": [],
                  "needs_background": "light"
                },
                "image/png": "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\n",
                "text/plain": "<Figure size 720x504 with 1 Axes>"
              },
              {
                "output_type": "stream",
                "metadata": {
                  "tags": []
                },
                "text": "Sensitivity, or True Positive Rate, or recall: 0.3877551020408163\nSpecificity, or 1 - False Positive Rate: 0.9781420765027322\n",
                "stream": "stdout"
              }
            ],
            "_view_module": "@jupyter-widgets/output",
            "_model_module_version": "1.0.0",
            "_view_count": null,
            "_view_module_version": "1.0.0",
            "layout": "IPY_MODEL_9cdc12817d8a44949b624884a9f1d6eb",
            "_model_module": "@jupyter-widgets/output"
          }
        },
        "9cdc12817d8a44949b624884a9f1d6eb": {
          "model_module": "@jupyter-widgets/base",
          "model_name": "LayoutModel",
          "state": {
            "_view_name": "LayoutView",
            "grid_template_rows": null,
            "right": null,
            "justify_content": null,
            "_view_module": "@jupyter-widgets/base",
            "overflow": null,
            "_model_module_version": "1.2.0",
            "_view_count": null,
            "flex_flow": null,
            "width": null,
            "min_width": null,
            "border": null,
            "align_items": null,
            "bottom": null,
            "_model_module": "@jupyter-widgets/base",
            "top": null,
            "grid_column": null,
            "overflow_y": null,
            "overflow_x": null,
            "grid_auto_flow": null,
            "grid_area": null,
            "grid_template_columns": null,
            "flex": null,
            "_model_name": "LayoutModel",
            "justify_items": null,
            "grid_row": null,
            "max_height": null,
            "align_content": null,
            "visibility": null,
            "align_self": null,
            "height": null,
            "min_height": null,
            "padding": null,
            "grid_auto_rows": null,
            "grid_gap": null,
            "max_width": null,
            "order": null,
            "_view_module_version": "1.2.0",
            "grid_template_areas": null,
            "object_position": null,
            "object_fit": null,
            "grid_auto_columns": null,
            "margin": null,
            "display": null,
            "left": null
          }
        },
        "8d3ef0a115cc4dccab0420f82846cf12": {
          "model_module": "@jupyter-widgets/controls",
          "model_name": "IntSliderModel",
          "state": {
            "_view_name": "IntSliderView",
            "style": "IPY_MODEL_6f6ac9d3d99b4698850fa53a6b1ea4fb",
            "_dom_classes": [],
            "description": "",
            "step": 1,
            "_model_name": "IntSliderModel",
            "orientation": "horizontal",
            "max": 100,
            "_view_module": "@jupyter-widgets/controls",
            "_model_module_version": "1.5.0",
            "value": 61,
            "_view_count": null,
            "disabled": false,
            "_view_module_version": "1.5.0",
            "min": 0,
            "continuous_update": true,
            "readout_format": "d",
            "description_tooltip": null,
            "readout": true,
            "_model_module": "@jupyter-widgets/controls",
            "layout": "IPY_MODEL_36c8197cc7994526ab8782479afded05"
          }
        },
        "6f6ac9d3d99b4698850fa53a6b1ea4fb": {
          "model_module": "@jupyter-widgets/controls",
          "model_name": "SliderStyleModel",
          "state": {
            "_view_name": "StyleView",
            "handle_color": null,
            "_model_name": "SliderStyleModel",
            "description_width": "",
            "_view_module": "@jupyter-widgets/base",
            "_model_module_version": "1.5.0",
            "_view_count": null,
            "_view_module_version": "1.2.0",
            "_model_module": "@jupyter-widgets/controls"
          }
        },
        "36c8197cc7994526ab8782479afded05": {
          "model_module": "@jupyter-widgets/base",
          "model_name": "LayoutModel",
          "state": {
            "_view_name": "LayoutView",
            "grid_template_rows": null,
            "right": null,
            "justify_content": null,
            "_view_module": "@jupyter-widgets/base",
            "overflow": null,
            "_model_module_version": "1.2.0",
            "_view_count": null,
            "flex_flow": null,
            "width": null,
            "min_width": null,
            "border": null,
            "align_items": null,
            "bottom": null,
            "_model_module": "@jupyter-widgets/base",
            "top": null,
            "grid_column": null,
            "overflow_y": null,
            "overflow_x": null,
            "grid_auto_flow": null,
            "grid_area": null,
            "grid_template_columns": null,
            "flex": null,
            "_model_name": "LayoutModel",
            "justify_items": null,
            "grid_row": null,
            "max_height": null,
            "align_content": null,
            "visibility": null,
            "align_self": null,
            "height": null,
            "min_height": null,
            "padding": null,
            "grid_auto_rows": null,
            "grid_gap": null,
            "max_width": null,
            "order": null,
            "_view_module_version": "1.2.0",
            "grid_template_areas": null,
            "object_position": null,
            "object_fit": null,
            "grid_auto_columns": null,
            "margin": null,
            "display": null,
            "left": null
          }
        },
        "1f1cee4203a045efb7f0ff20c7e53d99": {
          "model_module": "@jupyter-widgets/controls",
          "model_name": "ButtonModel",
          "state": {
            "_view_name": "ButtonView",
            "style": "IPY_MODEL_e91b6b6d96ae4e929e2f6dbe15f2252c",
            "_dom_classes": [],
            "description": "Calculate",
            "_model_name": "ButtonModel",
            "button_style": "",
            "_view_module": "@jupyter-widgets/controls",
            "_model_module_version": "1.5.0",
            "tooltip": "",
            "_view_count": null,
            "disabled": false,
            "_view_module_version": "1.5.0",
            "layout": "IPY_MODEL_10c0cf004d1b441e8514ea71feeeb089",
            "_model_module": "@jupyter-widgets/controls",
            "icon": ""
          }
        },
        "e91b6b6d96ae4e929e2f6dbe15f2252c": {
          "model_module": "@jupyter-widgets/controls",
          "model_name": "ButtonStyleModel",
          "state": {
            "_view_name": "StyleView",
            "_model_name": "ButtonStyleModel",
            "_view_module": "@jupyter-widgets/base",
            "_model_module_version": "1.5.0",
            "_view_count": null,
            "button_color": null,
            "font_weight": "",
            "_view_module_version": "1.2.0",
            "_model_module": "@jupyter-widgets/controls"
          }
        },
        "10c0cf004d1b441e8514ea71feeeb089": {
          "model_module": "@jupyter-widgets/base",
          "model_name": "LayoutModel",
          "state": {
            "_view_name": "LayoutView",
            "grid_template_rows": null,
            "right": null,
            "justify_content": null,
            "_view_module": "@jupyter-widgets/base",
            "overflow": null,
            "_model_module_version": "1.2.0",
            "_view_count": null,
            "flex_flow": null,
            "width": null,
            "min_width": null,
            "border": null,
            "align_items": null,
            "bottom": null,
            "_model_module": "@jupyter-widgets/base",
            "top": null,
            "grid_column": null,
            "overflow_y": null,
            "overflow_x": null,
            "grid_auto_flow": null,
            "grid_area": null,
            "grid_template_columns": null,
            "flex": null,
            "_model_name": "LayoutModel",
            "justify_items": null,
            "grid_row": null,
            "max_height": null,
            "align_content": null,
            "visibility": null,
            "align_self": null,
            "height": null,
            "min_height": null,
            "padding": null,
            "grid_auto_rows": null,
            "grid_gap": null,
            "max_width": null,
            "order": null,
            "_view_module_version": "1.2.0",
            "grid_template_areas": null,
            "object_position": null,
            "object_fit": null,
            "grid_auto_columns": null,
            "margin": null,
            "display": null,
            "left": null
          }
        },
        "120e592de3394712b8194606e7d9b187": {
          "model_module": "@jupyter-widgets/output",
          "model_name": "OutputModel",
          "state": {
            "_view_name": "OutputView",
            "msg_id": "",
            "_dom_classes": [],
            "_model_name": "OutputModel",
            "outputs": [
              {
                "output_type": "display_data",
                "metadata": {
                  "tags": [],
                  "needs_background": "light"
                },
                "image/png": "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\n",
                "text/plain": "<Figure size 720x504 with 1 Axes>"
              },
              {
                "output_type": "stream",
                "metadata": {
                  "tags": []
                },
                "text": "Sensitivity, or True Positive Rate, or recall: 0.3469387755102041\nPrecision, or Positive Predictive Value: 0.8947368421052632\nF1-score: 0.5\n",
                "stream": "stdout"
              }
            ],
            "_view_module": "@jupyter-widgets/output",
            "_model_module_version": "1.0.0",
            "_view_count": null,
            "_view_module_version": "1.0.0",
            "layout": "IPY_MODEL_55d21d28870047a9a8b3917f5c23de46",
            "_model_module": "@jupyter-widgets/output"
          }
        },
        "55d21d28870047a9a8b3917f5c23de46": {
          "model_module": "@jupyter-widgets/base",
          "model_name": "LayoutModel",
          "state": {
            "_view_name": "LayoutView",
            "grid_template_rows": null,
            "right": null,
            "justify_content": null,
            "_view_module": "@jupyter-widgets/base",
            "overflow": null,
            "_model_module_version": "1.2.0",
            "_view_count": null,
            "flex_flow": null,
            "width": null,
            "min_width": null,
            "border": null,
            "align_items": null,
            "bottom": null,
            "_model_module": "@jupyter-widgets/base",
            "top": null,
            "grid_column": null,
            "overflow_y": null,
            "overflow_x": null,
            "grid_auto_flow": null,
            "grid_area": null,
            "grid_template_columns": null,
            "flex": null,
            "_model_name": "LayoutModel",
            "justify_items": null,
            "grid_row": null,
            "max_height": null,
            "align_content": null,
            "visibility": null,
            "align_self": null,
            "height": null,
            "min_height": null,
            "padding": null,
            "grid_auto_rows": null,
            "grid_gap": null,
            "max_width": null,
            "order": null,
            "_view_module_version": "1.2.0",
            "grid_template_areas": null,
            "object_position": null,
            "object_fit": null,
            "grid_auto_columns": null,
            "margin": null,
            "display": null,
            "left": null
          }
        }
      }
    }
  },
  "cells": [
    {
      "cell_type": "markdown",
      "metadata": {
        "id": "view-in-github",
        "colab_type": "text"
      },
      "source": [
        "<a href=\"https://colab.research.google.com/github/kitamura-felipe/MC10-Metrics4ML/blob/master/Metrics4ML.ipynb\" target=\"_parent\"><img src=\"https://colab.research.google.com/assets/colab-badge.svg\" alt=\"Open In Colab\"/></a>"
      ]
    },
    {
      "cell_type": "markdown",
      "metadata": {
        "id": "1bCyARWQoghj",
        "colab_type": "text"
      },
      "source": [
        "# Magicians Corner x - Performance Metrics for Machine Learning"
      ]
    },
    {
      "cell_type": "markdown",
      "metadata": {
        "id": "jPkTB_P5oqPh",
        "colab_type": "text"
      },
      "source": [
        "###by: Bradley J Erickson, MD PhD and Felipe Kitamura, MD MSc\n",
        "*Copyright 2020\n",
        "\n",
        "###See corresponding Radiology: AI article here:\n",
        "\n",
        "\n",
        "Thanks to scikit-learn (https://scikit-learn.org/0.20/index.html)"
      ]
    },
    {
      "cell_type": "markdown",
      "metadata": {
        "id": "0qdns3iCouzp",
        "colab_type": "text"
      },
      "source": [
        "# Classification Metrics"
      ]
    },
    {
      "cell_type": "markdown",
      "metadata": {
        "id": "SmMeSuyopema",
        "colab_type": "text"
      },
      "source": [
        "Classification models can be divided into:\n",
        "\n",
        "\n",
        "1.   **Binary**: the model output is a single decimal number between 0 and 1. After applying a threshold, it will turn into 0 or 1.\n",
        "2.   **Multiclass**: the model output is made of N decimal numbers (N is the number of classes). After applying a threshold, only one of the classes can be 1. The rest will be zero.\n",
        "3.   **Multilabel**: the model output is made of N decimal numbers (N is the number of classes). After applying a threshold, any of the classes can be 0 or 1.\n",
        "\n",
        "We will see examples where each case is appropriate.\n",
        "\n",
        "\n"
      ]
    },
    {
      "cell_type": "code",
      "metadata": {
        "id": "C1f_2EyYn5Xf",
        "colab_type": "code",
        "colab": {}
      },
      "source": [
        "# Cell 1\n",
        "\n",
        "# First, we import the libraries we will use.\n",
        "\n",
        "import pandas as pd\n",
        "import numpy as np\n",
        "import matplotlib.pyplot as plt\n",
        "from sklearn.metrics import roc_curve, \\\n",
        "                            auc, \\\n",
        "                            precision_recall_curve, \\\n",
        "                            average_precision_score, \\\n",
        "                            roc_auc_score, \\\n",
        "                            confusion_matrix, \\\n",
        "                            accuracy_score, \\\n",
        "                            f1_score\n",
        "from sklearn.utils.multiclass import unique_labels"
      ],
      "execution_count": 0,
      "outputs": []
    },
    {
      "cell_type": "markdown",
      "metadata": {
        "id": "iqqIGNE1CnNM",
        "colab_type": "text"
      },
      "source": [
        "## 1. Binary Classification\n",
        "\n",
        "Let's supose we have a model that classifies an X-ray image into normal vs pneumonia.\n",
        "\n",
        "In this case, the model output will be a decimal number somewhere between 0 and 1. As convention, we will define 0 as normal and 1 as pneumonia.\n",
        "\n",
        "So, what do we do if, for a given X-ray, the model output (score) is 0.5? What if it's 0.3, or 0.9?\n",
        "\n",
        "The first concept we need to cover is the **threshold**. The **threshold** is a cutoff value above which we say the result is 1. If the score is equal or less than the threshold, the result is 0.\n",
        "\n",
        "Higher thresholds mean we will be too picky and undercall the diagnosis, but when we do it, we will be more confident.\n",
        "\n",
        "Lower thresholds mean we will overcall the diagnosis and make sure we don't miss any real positive cases. However, by doing that, we will also call positive some negative cases.\n",
        "\n",
        "Let's go through some examples. In this module we will not train any neural network. We've done the inference of a neural network on the test set and the result is in the scores.csv file.\n"
      ]
    },
    {
      "cell_type": "code",
      "metadata": {
        "id": "fA25RiWbCci2",
        "colab_type": "code",
        "outputId": "3a704df1-5882-4eaf-811f-ad9d736253f4",
        "colab": {
          "base_uri": "https://localhost:8080/",
          "height": 204
        }
      },
      "source": [
        "# Cell 2\n",
        "\n",
        "# Lets download the scores.csv file to calculate the metrics from it.\n",
        "\n",
        "!wget https://raw.githubusercontent.com/kitamura-felipe/MC10-Metrics4ML/master/scores.csv -O scores.csv"
      ],
      "execution_count": 76,
      "outputs": [
        {
          "output_type": "stream",
          "text": [
            "--2020-05-22 02:00:18--  https://raw.githubusercontent.com/kitamura-felipe/MC10-Metrics4ML/master/scores.csv\n",
            "Resolving raw.githubusercontent.com (raw.githubusercontent.com)... 151.101.0.133, 151.101.64.133, 151.101.128.133, ...\n",
            "Connecting to raw.githubusercontent.com (raw.githubusercontent.com)|151.101.0.133|:443... connected.\n",
            "HTTP request sent, awaiting response... 200 OK\n",
            "Length: 9771 (9.5K) [text/plain]\n",
            "Saving to: ‘scores.csv’\n",
            "\n",
            "scores.csv          100%[===================>]   9.54K  --.-KB/s    in 0s      \n",
            "\n",
            "2020-05-22 02:00:19 (74.7 MB/s) - ‘scores.csv’ saved [9771/9771]\n",
            "\n"
          ],
          "name": "stdout"
        }
      ]
    },
    {
      "cell_type": "code",
      "metadata": {
        "id": "NMtWIf_bqTCe",
        "colab_type": "code",
        "outputId": "ffd3fa02-99aa-407f-ea91-e96abef6ab0f",
        "colab": {
          "base_uri": "https://localhost:8080/",
          "height": 393
        }
      },
      "source": [
        "# Cell 3\n",
        "\n",
        "# Let's open this scores.csv file and undesrtand it's content\n",
        "\n",
        "df = pd.read_csv('scores.csv')\n",
        "\n",
        "print(\"Total number of rows (inferences on X-rays): \" + str(len(df)))\n",
        "print(\"We see the first 10 cases in this table.\")\n",
        "\n",
        "df.head(10)"
      ],
      "execution_count": 77,
      "outputs": [
        {
          "output_type": "stream",
          "text": [
            "Total number of rows (inferences on X-rays): 415\n",
            "We see the first 10 cases in this table.\n"
          ],
          "name": "stdout"
        },
        {
          "output_type": "execute_result",
          "data": {
            "text/html": [
              "<div>\n",
              "<style scoped>\n",
              "    .dataframe tbody tr th:only-of-type {\n",
              "        vertical-align: middle;\n",
              "    }\n",
              "\n",
              "    .dataframe tbody tr th {\n",
              "        vertical-align: top;\n",
              "    }\n",
              "\n",
              "    .dataframe thead th {\n",
              "        text-align: right;\n",
              "    }\n",
              "</style>\n",
              "<table border=\"1\" class=\"dataframe\">\n",
              "  <thead>\n",
              "    <tr style=\"text-align: right;\">\n",
              "      <th></th>\n",
              "      <th>y_pred</th>\n",
              "      <th>y_test</th>\n",
              "    </tr>\n",
              "  </thead>\n",
              "  <tbody>\n",
              "    <tr>\n",
              "      <th>0</th>\n",
              "      <td>0.127696</td>\n",
              "      <td>0</td>\n",
              "    </tr>\n",
              "    <tr>\n",
              "      <th>1</th>\n",
              "      <td>0.009967</td>\n",
              "      <td>0</td>\n",
              "    </tr>\n",
              "    <tr>\n",
              "      <th>2</th>\n",
              "      <td>0.425055</td>\n",
              "      <td>1</td>\n",
              "    </tr>\n",
              "    <tr>\n",
              "      <th>3</th>\n",
              "      <td>0.051483</td>\n",
              "      <td>0</td>\n",
              "    </tr>\n",
              "    <tr>\n",
              "      <th>4</th>\n",
              "      <td>0.421962</td>\n",
              "      <td>0</td>\n",
              "    </tr>\n",
              "    <tr>\n",
              "      <th>5</th>\n",
              "      <td>0.373866</td>\n",
              "      <td>0</td>\n",
              "    </tr>\n",
              "    <tr>\n",
              "      <th>6</th>\n",
              "      <td>0.532961</td>\n",
              "      <td>0</td>\n",
              "    </tr>\n",
              "    <tr>\n",
              "      <th>7</th>\n",
              "      <td>0.000164</td>\n",
              "      <td>0</td>\n",
              "    </tr>\n",
              "    <tr>\n",
              "      <th>8</th>\n",
              "      <td>0.285637</td>\n",
              "      <td>1</td>\n",
              "    </tr>\n",
              "    <tr>\n",
              "      <th>9</th>\n",
              "      <td>0.320673</td>\n",
              "      <td>1</td>\n",
              "    </tr>\n",
              "  </tbody>\n",
              "</table>\n",
              "</div>"
            ],
            "text/plain": [
              "     y_pred  y_test\n",
              "0  0.127696       0\n",
              "1  0.009967       0\n",
              "2  0.425055       1\n",
              "3  0.051483       0\n",
              "4  0.421962       0\n",
              "5  0.373866       0\n",
              "6  0.532961       0\n",
              "7  0.000164       0\n",
              "8  0.285637       1\n",
              "9  0.320673       1"
            ]
          },
          "metadata": {
            "tags": []
          },
          "execution_count": 77
        }
      ]
    },
    {
      "cell_type": "markdown",
      "metadata": {
        "id": "-2_WWjdUqXVX",
        "colab_type": "text"
      },
      "source": [
        "The first column is the index of the X-rays (here we only showed cases 0 to 9).\n",
        "\n",
        "The **y_pred** column contains the predicted scores from our neural network for each X-ray.\n",
        "\n",
        "The **y_test** column contains the grount truth for this test set, annotated by a radiologist.\n",
        "\n",
        "Let's pick up a **threshold** of 0.5 and calculate how many right and wrong cases we have."
      ]
    },
    {
      "cell_type": "code",
      "metadata": {
        "id": "VSzQQ2rarjf1",
        "colab_type": "code",
        "outputId": "20059877-2c19-4fcc-add0-6098b08635b4",
        "colab": {
          "base_uri": "https://localhost:8080/",
          "height": 85
        }
      },
      "source": [
        "# Cell 4\n",
        "\n",
        "threshold = 0.5\n",
        "\n",
        "# How many cases the model said pneumonia (score > threshold) and the ground truth was pneumonia (1)\n",
        "\n",
        "true_positives = ((df.y_pred > threshold) & (df.y_test == 1)).sum()\n",
        "\n",
        "# How many cases the model said pneumonia (score > threshold) but the ground truth was normal (0)\n",
        "\n",
        "false_positives = ((df.y_pred > threshold) & (df.y_test == 0)).sum()\n",
        "\n",
        "# How many cases the model said normal (score <= threshold) and the ground truth was normal (0)\n",
        "\n",
        "true_negatives = ((df.y_pred <= threshold) & (df.y_test == 0)).sum()\n",
        "\n",
        "# How many cases the model said normal (score <= threshold) but the ground truth was pneumonia (1)\n",
        "\n",
        "false_negatives = ((df.y_pred <= threshold) & (df.y_test == 1)).sum()\n",
        "\n",
        "# Now let's print these values\n",
        "\n",
        "print(\"True positives: \" + str(true_positives))\n",
        "print(\"False positives: \" + str(false_positives))\n",
        "print(\"True negatives: \" + str(true_negatives))\n",
        "print(\"False negatives: \" + str(false_negatives))"
      ],
      "execution_count": 78,
      "outputs": [
        {
          "output_type": "stream",
          "text": [
            "True positives: 19\n",
            "False positives: 8\n",
            "True negatives: 358\n",
            "False negatives: 30\n"
          ],
          "name": "stdout"
        }
      ]
    },
    {
      "cell_type": "code",
      "metadata": {
        "id": "-GVkvJs3v-LN",
        "colab_type": "code",
        "outputId": "854a071e-03d5-4ad6-a63b-bde9309f09ed",
        "colab": {
          "base_uri": "https://localhost:8080/",
          "height": 577
        }
      },
      "source": [
        "# Cell 5\n",
        "\n",
        "# There is a nicer way to see these values. We call it confusion matrix.\n",
        "# Don't worry about this name. The ideia is that it should make things less confusing\n",
        "\n",
        "# We will plot a 2 x 2 table where the rows represent the ground truth\n",
        "# and the columns represent the predictions\n",
        "\n",
        "cm = np.array([[true_positives, false_negatives],\n",
        "               [false_positives, true_negatives]])\n",
        "\n",
        "\n",
        "def plot_confusion_matrix(cm, classes,\n",
        "                          normalize=False,\n",
        "                          title=None,\n",
        "                          cmap=plt.cm.Blues):\n",
        "    \"\"\"\n",
        "    This function prints and plots the confusion matrix.\n",
        "    Normalization can be applied by setting `normalize=True`.\n",
        "    \"\"\"\n",
        "    if not title:\n",
        "        if normalize:\n",
        "            title = 'Normalized confusion matrix'\n",
        "        else:\n",
        "            title = 'Confusion matrix, without normalization'\n",
        "\n",
        "    if normalize:\n",
        "        cm = cm.astype('float') / cm.sum(axis=1)[:, np.newaxis]\n",
        "\n",
        "    fig, ax = plt.subplots()\n",
        "    im = ax.imshow(cm, interpolation='nearest', cmap=cmap)\n",
        "    ax.figure.colorbar(im, ax=ax)\n",
        "    # We want to show all ticks...\n",
        "    ax.set(xticks=np.arange(cm.shape[1]),\n",
        "           yticks=np.arange(cm.shape[0]),\n",
        "           # ... and label them with the respective list entries\n",
        "           xticklabels=classes, yticklabels=classes,\n",
        "           title=title,\n",
        "           ylabel='True label',\n",
        "           xlabel='Predicted label')\n",
        "\n",
        "    # Rotate the tick labels and set their alignment.\n",
        "    plt.setp(ax.get_xticklabels(), rotation=45, ha=\"right\",\n",
        "             rotation_mode=\"anchor\")\n",
        "\n",
        "    # Loop over data dimensions and create text annotations.\n",
        "    fmt = '.2f' if normalize else 'd'\n",
        "    thresh = cm.max() / 2.\n",
        "    for i in range(cm.shape[0]):\n",
        "        for j in range(cm.shape[1]):\n",
        "            ax.text(j, i, format(cm[i, j], fmt),\n",
        "                    ha=\"center\", va=\"center\",\n",
        "                    color=\"white\" if cm[i, j] > thresh else \"black\")\n",
        "    fig.tight_layout()\n",
        "    \n",
        "    return ax\n",
        "\n",
        "\n",
        "np.set_printoptions(precision=2)\n",
        "\n",
        "# Plot non-normalized confusion matrix\n",
        "plot_confusion_matrix(cm, classes=['Pneumonia', 'Normal'],\n",
        "                      title='Confusion matrix, without normalization')\n",
        "\n",
        "# Plot normalized confusion matrix\n",
        "plot_confusion_matrix(cm, classes=['Pneumonia', 'Normal'], normalize=True,\n",
        "                      title='Normalized confusion matrix')\n",
        "\n",
        "plt.show()"
      ],
      "execution_count": 79,
      "outputs": [
        {
          "output_type": "display_data",
          "data": {
            "image/png": "[encoded data removed]",
            "text/plain": [
              "<Figure size 432x288 with 2 Axes>"
            ]
          },
          "metadata": {
            "tags": [],
            "needs_background": "light"
          }
        },
        {
          "output_type": "display_data",
          "data": {
            "image/png": "[encoded data removed]",
            "text/plain": [
              "<Figure size 432x288 with 2 Axes>"
            ]
          },
          "metadata": {
            "tags": [],
            "needs_background": "light"
          }
        }
      ]
    },
    {
      "cell_type": "markdown",
      "metadata": {
        "id": "qzQmecwf-i45",
        "colab_type": "text"
      },
      "source": [
        "As stated before, the 2x2 tables shown above are confusion matrices.\n",
        "\n",
        "The first one (without normalization) shows the absolute number of true/false positive/negatives. The second one (normalized) shows relative values to ease interpretation. In this last case, the rows (ground truth) add up to 1.\n",
        "\n",
        "We can use the cells in the confusion matrix to calculate other metrics:\n",
        "\n",
        "\n",
        "*   Sensitivity (recall)\n",
        "*   Specificity\n",
        "*   False positive rate\n",
        "*   False negative rate\n",
        "*   Positive predictive value (precision)\n",
        "*   Negative predictive value\n",
        "*   Accuracy\n",
        "*   F1-score\n",
        "\n",
        "\n",
        "\n",
        "Let's deep dive into each one of them."
      ]
    },
    {
      "cell_type": "markdown",
      "metadata": {
        "id": "z0IM0ph8A9Yc",
        "colab_type": "text"
      },
      "source": [
        "### Sensitivity"
      ]
    },
    {
      "cell_type": "code",
      "metadata": {
        "id": "SETJcK2tAMTc",
        "colab_type": "code",
        "colab": {
          "base_uri": "https://localhost:8080/",
          "height": 34
        },
        "outputId": "8ef51b90-c4ef-4447-d44e-97d54f7334c5"
      },
      "source": [
        "# Cell 6\n",
        "\n",
        "# Sensitivity, or recall, or true positive rate is the number of true positives over the total number of real positives (positives by the ground truth)\n",
        "\n",
        "sensitivity = true_positives / (true_positives + false_negatives)\n",
        "\n",
        "print(\"Sensitivity: \" + str(sensitivity))\n",
        "\n",
        "# Sensitivity means: from all positive cases, how many the algorithm was able to spot?\n",
        "\n",
        "# Sensitivity is dependent on the model performance and is not influenced by prevalence."
      ],
      "execution_count": 96,
      "outputs": [
        {
          "output_type": "stream",
          "text": [
            "Sensitivity: 0.3877551020408163\n"
          ],
          "name": "stdout"
        }
      ]
    },
    {
      "cell_type": "markdown",
      "metadata": {
        "id": "fm2ea7yVA_1_",
        "colab_type": "text"
      },
      "source": [
        "### Specificity"
      ]
    },
    {
      "cell_type": "code",
      "metadata": {
        "id": "OyZDiHYIBCNU",
        "colab_type": "code",
        "colab": {
          "base_uri": "https://localhost:8080/",
          "height": 34
        },
        "outputId": "548eb902-9dcb-4755-badb-bcb21a87a966"
      },
      "source": [
        "# Cell 7\n",
        "# Specificity, or selectivity, true negative rate is the number of true negatives over the total number of real negatives (negatives by the ground truth)\n",
        "\n",
        "specificity = true_negatives / (true_negatives + false_positives)\n",
        "\n",
        "print(\"Specificity: \" + str(specificity))\n",
        "\n",
        "# Specificity means: from all negative cases, how many the algorithm was able to spot?\n",
        "\n",
        "# Specificity is dependent on the model performance and is not influenced by prevalence."
      ],
      "execution_count": 97,
      "outputs": [
        {
          "output_type": "stream",
          "text": [
            "Specificity: 0.9781420765027322\n"
          ],
          "name": "stdout"
        }
      ]
    },
    {
      "cell_type": "markdown",
      "metadata": {
        "id": "no6OskE4B2FW",
        "colab_type": "text"
      },
      "source": [
        "### False positive rate"
      ]
    },
    {
      "cell_type": "code",
      "metadata": {
        "id": "7X8z8PiUCaf-",
        "colab_type": "code",
        "colab": {
          "base_uri": "https://localhost:8080/",
          "height": 34
        },
        "outputId": "4a9a2685-884f-49f1-f6ec-3480c080f320"
      },
      "source": [
        "# Cell 8\n",
        "# False positive rate, or fall-out, or probability of false alarm is the number of false positives over the total of real negatives.\n",
        "# It's also related to Type I error (number of overcalls).\n",
        "\n",
        "fpr = false_positives / (true_negatives + false_positives)\n",
        "\n",
        "print(\"False Positive Rate: \" + str(fpr)) \n",
        "\n",
        "# FPR means: from all negative cases, how many the algorithm was not able to spot?\n",
        "# FPR is also equivalent to 1 - Specificity\n",
        "\n",
        "# FPR is dependent on the model performance and is not influenced by prevalence."
      ],
      "execution_count": 98,
      "outputs": [
        {
          "output_type": "stream",
          "text": [
            "False Positive Rate: 0.02185792349726776\n"
          ],
          "name": "stdout"
        }
      ]
    },
    {
      "cell_type": "markdown",
      "metadata": {
        "id": "9MRSWsk_DUBg",
        "colab_type": "text"
      },
      "source": [
        "### False negative rate"
      ]
    },
    {
      "cell_type": "code",
      "metadata": {
        "id": "A-Z9wqZZDXzd",
        "colab_type": "code",
        "colab": {
          "base_uri": "https://localhost:8080/",
          "height": 34
        },
        "outputId": "a77e1204-bbd6-40a9-b3d6-befafef52f65"
      },
      "source": [
        "# Cell 9\n",
        "# False negative rate, or miss rate is the number of false negatives over the total of real negatives.\n",
        "# It's also related to Type II error (number of undercalls).\n",
        "\n",
        "fnr = false_negatives / (true_positives + false_negatives)\n",
        "\n",
        "print(\"False Negative Rate: \" + str(fnr)) \n",
        "\n",
        "# FNR means: from all positive cases, how many the algorithm was not not able to spot?\n",
        "# FNR is also equivalent to 1 - Sensitivity\n",
        "\n",
        "# FNR is dependent on the model performance and is not influenced by prevalence."
      ],
      "execution_count": 99,
      "outputs": [
        {
          "output_type": "stream",
          "text": [
            "False Negative Rate: 0.6122448979591837\n"
          ],
          "name": "stdout"
        }
      ]
    },
    {
      "cell_type": "markdown",
      "metadata": {
        "id": "9XkjwOnaUZHB",
        "colab_type": "text"
      },
      "source": [
        "### Positive predictive value"
      ]
    },
    {
      "cell_type": "code",
      "metadata": {
        "id": "2EE9NbizUcc6",
        "colab_type": "code",
        "colab": {
          "base_uri": "https://localhost:8080/",
          "height": 34
        },
        "outputId": "e5f86249-fe8d-46dd-bda4-0a01bfc9dd46"
      },
      "source": [
        "# Cell 10\n",
        "# Positive predictive value, or precision is the number of true positives over the total of cases predicted as positive by the model.\n",
        "\n",
        "precision = true_positives / (true_positives + false_positives)\n",
        "\n",
        "print(\"Precision: \" + str(precision)) \n",
        "\n",
        "# Precision means: from all cases the model predicted positive, how many are realy positive?\n",
        "\n",
        "# Precision is dependent on both the model performance and prevalence"
      ],
      "execution_count": 100,
      "outputs": [
        {
          "output_type": "stream",
          "text": [
            "Precision: 0.7037037037037037\n"
          ],
          "name": "stdout"
        }
      ]
    },
    {
      "cell_type": "markdown",
      "metadata": {
        "id": "hLxMQjgXWnBS",
        "colab_type": "text"
      },
      "source": [
        "### Negative predictive value"
      ]
    },
    {
      "cell_type": "code",
      "metadata": {
        "id": "IxqdZgFUWpaX",
        "colab_type": "code",
        "colab": {
          "base_uri": "https://localhost:8080/",
          "height": 34
        },
        "outputId": "0f781e65-fb51-4502-8ff3-d643f1267cc4"
      },
      "source": [
        "# Cell 11\n",
        "# Negative predictive value is the number of true negatives over the total of cases predicted as negative by the model.\n",
        "\n",
        "npv = true_negatives / (true_negatives + false_negatives)\n",
        "\n",
        "print(\"Negative Predictive Value: \" + str(npv))\n",
        "\n",
        "# Negative predictive value means: from all cases the model predicted negative, how many are realy negative?\n",
        "\n",
        "# Negative predictive value is dependent on both the model performance and prevalence"
      ],
      "execution_count": 103,
      "outputs": [
        {
          "output_type": "stream",
          "text": [
            "Negative Predictive Value: 0.9226804123711341\n"
          ],
          "name": "stdout"
        }
      ]
    },
    {
      "cell_type": "markdown",
      "metadata": {
        "id": "N5hQQgbeSwUi",
        "colab_type": "text"
      },
      "source": [
        "### Accuracy"
      ]
    },
    {
      "cell_type": "code",
      "metadata": {
        "id": "3a7xBm0iSz4e",
        "colab_type": "code",
        "colab": {
          "base_uri": "https://localhost:8080/",
          "height": 34
        },
        "outputId": "d788576f-85e0-4c48-8c3e-062edbd70c60"
      },
      "source": [
        "# Cell 12\n",
        "# Accuracy is the total of correct predictions over the total of cases\n",
        "\n",
        "accuracy = (true_positives + true_negatives) / (true_positives + false_negatives + true_negatives + false_positives)\n",
        "\n",
        "print(\"Accuracy: \" + str(accuracy))\n",
        "\n",
        "# Accuracy means how many cases the model predicted correctly.\n",
        "\n",
        "# Accuracy is dependent on both the model performance and prevalence"
      ],
      "execution_count": 101,
      "outputs": [
        {
          "output_type": "stream",
          "text": [
            "Accuracy: 0.908433734939759\n"
          ],
          "name": "stdout"
        }
      ]
    },
    {
      "cell_type": "markdown",
      "metadata": {
        "id": "fwjYM2vpTMIn",
        "colab_type": "text"
      },
      "source": [
        "### F1-score"
      ]
    },
    {
      "cell_type": "code",
      "metadata": {
        "id": "6nrOO31mTXp2",
        "colab_type": "code",
        "colab": {
          "base_uri": "https://localhost:8080/",
          "height": 34
        },
        "outputId": "0aa0e9e7-9867-4319-88ae-8aa77dd026cd"
      },
      "source": [
        "# Cell 13\n",
        "# F1-score is\n",
        "\n",
        "f1 = 2 * true_positives / (2 * true_positives + false_positives + false_negatives)\n",
        "\n",
        "print(\"F1-score: \" + str(f1))\n",
        "\n",
        "# F1-score is also the harmonic mean of precision and recall (positive predictive value and sensitivity)\n",
        "# F1-score is also the same metric as the Dice similarity coefficient (Dice-Sorensen Coefficient).\n",
        "# In radiology AI examples, we usualy choose the name F1 when we are dealing in the image or study level,\n",
        "# while Dice is reserved for the pixel level.\n",
        "\n",
        "# F1-score is dependent on both the model performance and prevalence"
      ],
      "execution_count": 104,
      "outputs": [
        {
          "output_type": "stream",
          "text": [
            "F1-score: 0.5\n"
          ],
          "name": "stdout"
        }
      ]
    },
    {
      "cell_type": "markdown",
      "metadata": {
        "id": "Y3xb08Pxqv3Y",
        "colab_type": "text"
      },
      "source": [
        "All the metrics we've covered so far are **dependent** on the **chosen threshold**.\n",
        "\n",
        "The optimum threshold for one metric is not necessarily the optimun threshold for the other ones.\n",
        "\n",
        "For this reason, we must choose the metric we want to optimize to find the best threshold for that metric.\n",
        "\n",
        "Try out different thresholds to understand how it impacts the confusion matrix for our classifier and the metrics shown.\n"
      ]
    },
    {
      "cell_type": "code",
      "metadata": {
        "id": "0zzk6x7WwxCB",
        "colab_type": "code",
        "cellView": "both",
        "outputId": "f52d1c12-6f90-4961-f6f3-dc498d252a8b",
        "colab": {
          "base_uri": "https://localhost:8080/",
          "height": 463,
          "referenced_widgets": [
            "32dcecb0067b4cb28e3d95f668ab9723",
            "ac81511f4d654df6b19ba7d3c64515cd",
            "d0754f3f4dcc4da2acb40050904bbc5a",
            "6ae40b90ad734f938a6c1b772df3aba4",
            "1e82a5aac774414c93d2b8f1ed4556fa",
            "12a682286df9481b97e5f03f7c377cee",
            "f80d357a6b38499aa40faa757b8b3d4e",
            "34049c940bae4e14a1069f9a62ef639b"
          ]
        }
      },
      "source": [
        "# Cell 14\n",
        "\n",
        "# Execute this cell once\n",
        "# Then updade the slider and click \"Calculate\" as many time you want.\n",
        "\n",
        "import ipywidgets as widgets\n",
        "from IPython.display import clear_output\n",
        "slider = widgets.IntSlider(value=50, min=0.0, max=100, step=1 )\n",
        "display(slider)\n",
        "\n",
        "button = widgets.Button(description=\"Calculate\")\n",
        "output = widgets.Output()\n",
        "\n",
        "def on_button_clicked(b):\n",
        "  # Display the message within the output widget.\n",
        "  with output:\n",
        "    clear_output()\n",
        "    threshold = slider.value / 100.\n",
        "    print(\"Threshold: \" + str(threshold))\n",
        "    true_positives = ((df.y_pred > threshold) & (df.y_test == 1)).sum()\n",
        "    false_positives = ((df.y_pred > threshold) & (df.y_test == 0)).sum()\n",
        "    true_negatives = ((df.y_pred <= threshold) & (df.y_test == 0)).sum()\n",
        "    false_negatives = ((df.y_pred <= threshold) & (df.y_test == 1)).sum()    \n",
        "    cm = np.array([[true_positives, false_negatives],\n",
        "                  [false_positives, true_negatives]])\n",
        "    \n",
        "    plot_confusion_matrix(cm, classes=['Pneumonia', 'Normal'], normalize=True,\n",
        "                      title='Normalized confusion matrix')\n",
        "    plt.show()\n",
        "\n",
        "    sensitivity = true_positives / (true_positives + false_negatives)\n",
        "    print(\"Sensitivity: \" + str(sensitivity))\n",
        "    specificity = true_negatives / (true_negatives + false_positives)\n",
        "    print(\"Specificity: \" + str(specificity))    \n",
        "    precision = true_positives / (true_positives + false_positives)\n",
        "    print(\"Precision: \" + str(precision)) \n",
        "    accuracy = (true_positives + true_negatives) / (true_positives + false_negatives + true_negatives + false_positives)\n",
        "    print(\"Accuracy: \" + str(accuracy))\n",
        "    f1 = 2 * true_positives / (2 * true_positives + false_positives + false_negatives)\n",
        "    print(\"F1-score: \" + str(f1))\n",
        "\n",
        "button.on_click(on_button_clicked)\n",
        "display(button, output)\n"
      ],
      "execution_count": 115,
      "outputs": [
        {
          "output_type": "display_data",
          "data": {
            "application/vnd.jupyter.widget-view+json": {
              "model_id": "32dcecb0067b4cb28e3d95f668ab9723",
              "version_minor": 0,
              "version_major": 2
            },
            "text/plain": [
              "IntSlider(value=50)"
            ]
          },
          "metadata": {
            "tags": []
          }
        },
        {
          "output_type": "display_data",
          "data": {
            "application/vnd.jupyter.widget-view+json": {
              "model_id": "6ae40b90ad734f938a6c1b772df3aba4",
              "version_minor": 0,
              "version_major": 2
            },
            "text/plain": [
              "Button(description='Calculate', style=ButtonStyle())"
            ]
          },
          "metadata": {
            "tags": []
          }
        },
        {
          "output_type": "display_data",
          "data": {
            "application/vnd.jupyter.widget-view+json": {
              "model_id": "f80d357a6b38499aa40faa757b8b3d4e",
              "version_minor": 0,
              "version_major": 2
            },
            "text/plain": [
              "Output()"
            ]
          },
          "metadata": {
            "tags": []
          }
        }
      ]
    },
    {
      "cell_type": "markdown",
      "metadata": {
        "id": "U9zMOb_AsuMc",
        "colab_type": "text"
      },
      "source": [
        "In this next cell, we will plot each metric as a function of the threshold to see how each of them behave."
      ]
    },
    {
      "cell_type": "code",
      "metadata": {
        "id": "RzpKUrzpU5Lj",
        "colab_type": "code",
        "colab": {
          "base_uri": "https://localhost:8080/",
          "height": 464
        },
        "outputId": "6cb5a299-d165-4685-abd7-229fe29a4fd6"
      },
      "source": [
        "# Cell 15\n",
        "\n",
        "tp, tn, fp, fn = [], [], [], []\n",
        "sens, spec, acc, f1, prec = [], [], [], [], []\n",
        "th = []\n",
        "\n",
        "for threshold in range(100):\n",
        "    threshold/=100\n",
        "    tp.append( ((df.y_pred > threshold) & (df.y_test == 1)).sum())\n",
        "    fp.append( ((df.y_pred > threshold) & (df.y_test == 0)).sum())\n",
        "    tn.append( ((df.y_pred <= threshold) & (df.y_test == 0)).sum())\n",
        "    fn.append( ((df.y_pred <= threshold) & (df.y_test == 1)).sum())\n",
        "    sens.append(tp[-1] / (tp[-1] + fn[-1]))\n",
        "    spec.append(tn[-1] / (tn[-1] + fp[-1]))\n",
        "    acc.append((tp[-1] + tn[-1]) / (tp[-1] + tn[-1] + fp[-1] + fn[-1]))\n",
        "    f1.append((2 * tp[-1]) / (2 * tp[-1] + fn[-1] + fp[-1]))\n",
        "    prec.append(tp[-1] / (tp[-1] + fp[-1]))\n",
        "    th.append(threshold)\n",
        "\n",
        "sens = np.array(sens)\n",
        "spec = np.array(spec)\n",
        "prec = np.array(prec)\n",
        "th = np.array(th)\n",
        "\n",
        "plt.figure(figsize=(10,7))\n",
        "plt.plot(th, sens)\n",
        "plt.plot(th, spec)\n",
        "plt.plot(th, acc)\n",
        "plt.plot(th, f1)\n",
        "plt.legend(['Sensitivity', 'Specificity', 'Accuracy', 'F1-score'], fontsize=12)\n",
        "plt.xlabel('Threshold', size=15)\n",
        "plt.ylabel('Metric', size=15)\n",
        "plt.show()"
      ],
      "execution_count": 153,
      "outputs": [
        {
          "output_type": "stream",
          "text": [
            "/usr/local/lib/python3.6/dist-packages/ipykernel_launcher.py:17: RuntimeWarning: invalid value encountered in long_scalars\n"
          ],
          "name": "stderr"
        },
        {
          "output_type": "display_data",
          "data": {
            "image/png": "[encoded data removed]",
            "text/plain": [
              "<Figure size 720x504 with 1 Axes>"
            ]
          },
          "metadata": {
            "tags": [],
            "needs_background": "light"
          }
        }
      ]
    },
    {
      "cell_type": "markdown",
      "metadata": {
        "id": "cmWT-gnVtNCw",
        "colab_type": "text"
      },
      "source": [
        "As we increase the threshold, sensitivity decreases and specificity increases.\n",
        "\n",
        "Accuracy and F1-score have optimum values in the middle-range for our model.\n",
        "\n",
        "Of note, the shape of these curves may vary depending on the model and dataset."
      ]
    },
    {
      "cell_type": "markdown",
      "metadata": {
        "id": "XEL9jaV5uDpd",
        "colab_type": "text"
      },
      "source": [
        "There are two important metrics:"
      ]
    },
    {
      "cell_type": "markdown",
      "metadata": {
        "id": "tz0QRPi9zLz1",
        "colab_type": "text"
      },
      "source": [
        "### Receiver Operator Characteristic (ROC) curve\n",
        "\n",
        "The ROC curve was first used during World War II to study the ability of a radar receiver operator to correctly detect aircrafts.\n",
        "\n",
        "The ROC curve is a plot of the discriminatory ability of a binary test across all threshold range (from 0 to 1).\n",
        "\n",
        "The **Y axis** is the **Sensitivity**, or true positive rate, and relates to the Power of the model.\n",
        "\n",
        "The **X axis** is **1 - Specificity**, or the false positive rate, and relates to the Type I error.\n",
        "\n",
        "The Area Under the ROC Curve (**AUCROC**) is independent of the prevalence and independent of the threshold. It summarizes the discriminatory ability of a model.\n",
        "\n",
        "If we randomly draw one positive case and one negative case from our testset, the probability that the score of the positive case will be greater than the score of the negative case is the **AUCROC**.\n",
        "\n",
        "Try out to change the threshold and see that it defines a point in the ROC curve, but it doesn't change the curve itself, nor the area under it."
      ]
    },
    {
      "cell_type": "code",
      "metadata": {
        "id": "y6pavY0Izjgy",
        "colab_type": "code",
        "colab": {
          "base_uri": "https://localhost:8080/",
          "height": 561,
          "referenced_widgets": [
            "eadec8335437446a828726153c2d2790",
            "1e9ff05e42a546818aa08e1a91811859",
            "7a09bb6c6462413985d6233dca7ec7dc",
            "200ff50810194ad88ac37c17f66c14fe",
            "30e06375a9af4b22977961216c853870",
            "b13f7f227d2e401b9caa935c25855a87",
            "80546b8654534792b9af57eb6770fecd",
            "9cdc12817d8a44949b624884a9f1d6eb"
          ]
        },
        "outputId": "c47d9388-0def-4a5b-b60e-8457327ced7f"
      },
      "source": [
        "# Cell 16\n",
        "\n",
        "slider = widgets.IntSlider(value=50, min=0.0, max=100, step=1 )\n",
        "display(slider)\n",
        "\n",
        "button = widgets.Button(description=\"Calculate\")\n",
        "output = widgets.Output()\n",
        "\n",
        "def on_button_clicked(b):\n",
        "  # Display the message within the output widget.\n",
        "  with output:\n",
        "    clear_output()\n",
        "    threshold = slider.value / 100.\n",
        "    ind = abs(th - threshold).argmin()\n",
        "    roc_auc = auc(1 - spec, sens)\n",
        "\n",
        "    plt.figure(figsize=(10, 7))\n",
        "    lw = 2\n",
        "    plt.plot(1 - spec, sens, color='darkorange',\n",
        "            lw=lw, label='ROC curve (area = %0.2f)' % roc_auc )\n",
        "    plt.plot([0, 1], [0, 1], color='navy', lw=lw, linestyle='--')\n",
        "    plt.plot(1 - spec[ind], sens[ind], 'go--', linewidth=2, markersize=12)\n",
        "    plt.xlim([-0.01, 1.0])\n",
        "    plt.ylim([0.0, 1.01])\n",
        "    plt.xlabel('False Positive Rate', size=13)\n",
        "    plt.ylabel('True Positive Rate', size=13)\n",
        "    plt.title('Receiver operating characteristic curve', size=15)\n",
        "    plt.legend(loc=\"lower right\")\n",
        "    plt.show()\n",
        "    print(\"Sensitivity, or True Positive Rate, or recall: \" + str(sens[ind]))\n",
        "    print(\"Specificity, or 1 - False Positive Rate: \" + str(spec[ind]))  \n",
        "\n",
        "button.on_click(on_button_clicked)\n",
        "display(button, output)"
      ],
      "execution_count": 158,
      "outputs": [
        {
          "output_type": "display_data",
          "data": {
            "application/vnd.jupyter.widget-view+json": {
              "model_id": "eadec8335437446a828726153c2d2790",
              "version_minor": 0,
              "version_major": 2
            },
            "text/plain": [
              "IntSlider(value=50)"
            ]
          },
          "metadata": {
            "tags": []
          }
        },
        {
          "output_type": "display_data",
          "data": {
            "application/vnd.jupyter.widget-view+json": {
              "model_id": "200ff50810194ad88ac37c17f66c14fe",
              "version_minor": 0,
              "version_major": 2
            },
            "text/plain": [
              "Button(description='Calculate', style=ButtonStyle())"
            ]
          },
          "metadata": {
            "tags": []
          }
        },
        {
          "output_type": "display_data",
          "data": {
            "application/vnd.jupyter.widget-view+json": {
              "model_id": "80546b8654534792b9af57eb6770fecd",
              "version_minor": 0,
              "version_major": 2
            },
            "text/plain": [
              "Output()"
            ]
          },
          "metadata": {
            "tags": []
          }
        }
      ]
    },
    {
      "cell_type": "markdown",
      "metadata": {
        "id": "EcrO46hE-SWa",
        "colab_type": "text"
      },
      "source": [
        "The ROC curve is all about the trade-off between sensitivity and specificity."
      ]
    },
    {
      "cell_type": "markdown",
      "metadata": {
        "id": "dW7z38wW-4JY",
        "colab_type": "text"
      },
      "source": [
        "### Precision-Recall (PR) curve\n",
        "\n",
        "As the name suggests, the Precision-Recall curve shows the trade-off between precision (positive predictive value) and recall (sensitivity).\n",
        "\n",
        "As precision is dependent on the prevalence, the PR curve depends on the prevalence.\n",
        "\n",
        "Like the area under the ROC curve, the area under the PR curve doesn't depend on the threshold.\n",
        "\n",
        "However, each threshold defines a point in the PR curve. "
      ]
    },
    {
      "cell_type": "code",
      "metadata": {
        "id": "sbVnpQXbAojk",
        "colab_type": "code",
        "colab": {
          "base_uri": "https://localhost:8080/",
          "height": 578,
          "referenced_widgets": [
            "8d3ef0a115cc4dccab0420f82846cf12",
            "6f6ac9d3d99b4698850fa53a6b1ea4fb",
            "36c8197cc7994526ab8782479afded05",
            "1f1cee4203a045efb7f0ff20c7e53d99",
            "e91b6b6d96ae4e929e2f6dbe15f2252c",
            "10c0cf004d1b441e8514ea71feeeb089",
            "120e592de3394712b8194606e7d9b187",
            "55d21d28870047a9a8b3917f5c23de46"
          ]
        },
        "outputId": "bd5b7822-946f-448a-edc8-1b5537614473"
      },
      "source": [
        "# Cell 16\n",
        "\n",
        "slider = widgets.IntSlider(value=50, min=0.0, max=100, step=1 )\n",
        "display(slider)\n",
        "\n",
        "button = widgets.Button(description=\"Calculate\")\n",
        "output = widgets.Output()\n",
        "\n",
        "def on_button_clicked(b):\n",
        "  # Display the message within the output widget.\n",
        "  with output:\n",
        "    clear_output()\n",
        "    threshold = slider.value / 100.\n",
        "    ind = abs(th - threshold).argmin()\n",
        "    roc_auc = average_precision_score( df.y_test, df.y_pred)\n",
        "\n",
        "    plt.figure(figsize=(10, 7))\n",
        "    lw = 2\n",
        "    plt.plot(sens, prec, color='darkorange',\n",
        "            lw=lw, label='PR curve (area = %0.2f)' % roc_auc )\n",
        "    plt.plot(sens[ind], prec[ind], 'go--', linewidth=2, markersize=12)\n",
        "    plt.xlim([0.0, 1.01])\n",
        "    plt.ylim([0.0, 1.01])\n",
        "    plt.xlabel('Recall', size=13)\n",
        "    plt.ylabel('Precision', size=13)\n",
        "    plt.title('Precision-Recall curve', size=15)\n",
        "    plt.legend(loc=\"lower right\")\n",
        "    plt.show()\n",
        "    print(\"Sensitivity, or True Positive Rate, or recall: \" + str(sens[ind]))\n",
        "    print(\"Precision, or Positive Predictive Value: \" + str(prec[ind]))\n",
        "    print(\"F1-score: \" + str(f1[ind]))  \n",
        "\n",
        "button.on_click(on_button_clicked)\n",
        "display(button, output)"
      ],
      "execution_count": 161,
      "outputs": [
        {
          "output_type": "display_data",
          "data": {
            "application/vnd.jupyter.widget-view+json": {
              "model_id": "8d3ef0a115cc4dccab0420f82846cf12",
              "version_minor": 0,
              "version_major": 2
            },
            "text/plain": [
              "IntSlider(value=50)"
            ]
          },
          "metadata": {
            "tags": []
          }
        },
        {
          "output_type": "display_data",
          "data": {
            "application/vnd.jupyter.widget-view+json": {
              "model_id": "1f1cee4203a045efb7f0ff20c7e53d99",
              "version_minor": 0,
              "version_major": 2
            },
            "text/plain": [
              "Button(description='Calculate', style=ButtonStyle())"
            ]
          },
          "metadata": {
            "tags": []
          }
        },
        {
          "output_type": "display_data",
          "data": {
            "application/vnd.jupyter.widget-view+json": {
              "model_id": "120e592de3394712b8194606e7d9b187",
              "version_minor": 0,
              "version_major": 2
            },
            "text/plain": [
              "Output()"
            ]
          },
          "metadata": {
            "tags": []
          }
        }
      ]
    },
    {
      "cell_type": "markdown",
      "metadata": {
        "id": "DBZSJQmBo0zx",
        "colab_type": "text"
      },
      "source": [
        "# Segmentation Metrics"
      ]
    },
    {
      "cell_type": "markdown",
      "metadata": {
        "id": "YtO8CGXLHyJX",
        "colab_type": "text"
      },
      "source": [
        "Segmentation is the denotation of parts of an image as parts of a specific structures--eg to trace the liver in a CT image. This task demands a different metric than what is used for classification. \n",
        "A popular metric for segmentation is the Dice-Sorensen Coefficient, which is computed as \n",
        "![alt text](https://wikimedia.org/api/rest_v1/media/math/render/svg/a80a97215e1afc0b222e604af1b2099dc9363d3b)\n",
        "where X is the 'truth' and Y is the 'predicted' segmentation. \n",
        "\n",
        "In the deep learning world, we do a slight modification of this, in which we add a small number to the denominator so that in the case where an image has no pixels in the object, and the algorithm correctly also has 0 pixels, we avoid a divide by 0 error. This was described in the prior Magcian's Corner article on segmentation.\n",
        "\n",
        "In this cell, we again define this modified dice_score, and also a dice_loss, which also is slightly different than a dice score, and which some refer to as a 'soft dice score'."
      ]
    },
    {
      "cell_type": "code",
      "metadata": {
        "id": "FrV5geMZo2lJ",
        "colab_type": "code",
        "colab": {}
      },
      "source": [
        "# Cell n \n",
        "\n",
        "def dice_coeff(y_true, y_pred):\n",
        "    _epsilon = 10 ** -7\n",
        "    im1 = np.asarray(y_true).astype(np.bool)\n",
        "    im2 = np.asarray(y_pred).astype(np.bool)\n",
        "\n",
        "    if im1.shape != im2.shape:\n",
        "        raise ValueError(\"Shape mismatch: im1 and im2 must have the same shape.\")\n",
        "\n",
        "    # Compute Dice coefficient\n",
        "    intersection = np.logical_and(im1, im2)\n",
        "\n",
        "    return (2. * intersection.sum() + _epsilon) / (im1.sum() + im2.sum() + _epsilon)\n",
        "\n",
        "def dice_loss(y_true, y_pred):\n",
        "    loss = 1 - dice_coeff(y_true, y_pred)\n",
        "    return loss\n",
        "\n"
      ],
      "execution_count": 0,
      "outputs": []
    },
    {
      "cell_type": "markdown",
      "metadata": {
        "id": "uc6jNungLsrC",
        "colab_type": "text"
      },
      "source": [
        "For training purposes, we will not do any segmentation, but will instead used defined images for truth and prediction so that we can easily see the impact of various conditions.\n",
        "In this case, we will a function that will have 0's as background and 1's as foreground (object). The user may pass in the img_size, as well as the start and end x and y values. "
      ]
    },
    {
      "cell_type": "code",
      "metadata": {
        "id": "hmQl0fm-MMVv",
        "colab_type": "code",
        "colab": {}
      },
      "source": [
        "def create_img(img_size = 100, start_x=25, start_y=25, end_x=75, end_y=75):\n",
        "    img = np.zeros((img_size, img_size), dtype = np.int16)\n",
        "    if start_x < 0:\n",
        "        start_x = 0\n",
        "    if start_y < 0:\n",
        "        start_y = 0\n",
        "    if end_x > img_size:\n",
        "        end_x = img_size\n",
        "    if end_y > img_size:\n",
        "        end_y = img_size\n",
        "    img[start_x:end_x + 1, start_y:end_y + 1] = 1\n",
        "    return img\n"
      ],
      "execution_count": 0,
      "outputs": []
    },
    {
      "cell_type": "code",
      "metadata": {
        "id": "SUqRGeRzVgl9",
        "colab_type": "code",
        "outputId": "63452b84-abf9-4c55-8e79-b6cf32f34e17",
        "colab": {
          "base_uri": "https://localhost:8080/",
          "height": 71
        }
      },
      "source": [
        "# Cell n\n",
        "# Compute Hausdorf, which is the distance/error of one edge to another\n",
        "# code taken from: https://github.com/sapphire008/Python/blob/master/generic/HausdorffDistance.py\n",
        "\n",
        "from numpy.core.umath_tests import inner1d\n",
        "\n",
        "def HausdorffDist(A,B):\n",
        "    # The Hausdorff distance between A and B, denoted by dH(A,B),\n",
        "    # is defined by:\n",
        "    # dH(A,B) = max(h(A,B),h(B,A)),\n",
        "    # where h(A,B) = max(min(d(a,b))\n",
        "    # and d(a,b) is a L2 norm\n",
        "    # dist_H = hausdorff(A,B)\n",
        "    #\n",
        "    # Edward DongBo Cui; Stanford University; 06/17/2014\n",
        "\n",
        "    # Find pairwise distance\n",
        "    D_mat = np.sqrt(inner1d(A,A)[np.newaxis].T + inner1d(B,B)-2*(np.dot(A,B.T)))\n",
        "    # Find DH\n",
        "    dH = np.max(np.array([np.max(np.min(D_mat,axis=0)),np.max(np.min(D_mat,axis=1))]))\n",
        "    return(dH)\n",
        "\n",
        "def ModHausdorffDist(A,B):\n",
        "    #This function computes the Modified Hausdorff Distance (MHD) which is\n",
        "    #proven to function better than the directed HD as per Dubuisson et al.\n",
        "    #in the following work:\n",
        "    #\n",
        "    #M. P. Dubuisson and A. K. Jain. A Modified Hausdorff distance for object\n",
        "    #matching. In ICPR94, pages A:566-568, Jerusalem, Israel, 1994.\n",
        "    #http://ieeexplore.ieee.org/xpls/abs_all.jsp?arnumber=576361\n",
        "    #\n",
        "    #The function computes the forward and reverse distances and outputs the\n",
        "    #maximum/minimum of both.\n",
        "    #Optionally, the function can return forward and reverse distance.\n",
        "    #\n",
        "    #Edward DongBo Cui Stanford University; 06/17/2014\n",
        "\n",
        "    # Find pairwise distance\n",
        "    D_mat = np.sqrt(inner1d(A,A)[np.newaxis].T + inner1d(B,B)-2*(np.dot(A,B.T)))\n",
        "    # Calculating the forward HD: mean(min(each col))\n",
        "    FHD = np.mean(np.min(D_mat,axis=1))\n",
        "    # Calculating the reverse HD: mean(min(each row))\n",
        "    RHD = np.mean(np.min(D_mat,axis=0))\n",
        "    # Calculating mhd\n",
        "    MHD = np.max(np.array([FHD, RHD]))\n",
        "    return(MHD, FHD, RHD)"
      ],
      "execution_count": 0,
      "outputs": [
        {
          "output_type": "stream",
          "text": [
            "/usr/local/lib/python3.6/dist-packages/ipykernel_launcher.py:5: DeprecationWarning: numpy.core.umath_tests is an internal NumPy module and should not be imported. It will be removed in a future NumPy release.\n",
            "  \"\"\"\n"
          ],
          "name": "stderr"
        }
      ]
    },
    {
      "cell_type": "code",
      "metadata": {
        "id": "ys6IEhn7NjoI",
        "colab_type": "code",
        "outputId": "e1b1c937-bac8-435e-a392-110c5a84ecd1",
        "colab": {
          "base_uri": "https://localhost:8080/",
          "height": 54
        }
      },
      "source": [
        "SIZE = 100\n",
        "truth = create_img (img_size = SIZE, start_x=25, start_y = 25, end_x = 75, end_y = 75)\n",
        "pred = create_img (img_size = SIZE, start_x=25, start_y = 25, end_x = 76, end_y = 72)\n",
        "\n",
        "dsc = dice_coeff(truth, pred)\n",
        "loss = dice_loss (truth, pred)\n",
        "hd = HausdorffDist(truth, pred)\n",
        "mhd = ModHausdorffDist(truth, pred)\n",
        "print (\"DSC is \" + str(dsc) + \", loss is \" + str(loss) + \", Hausdorf = \" + str(hd) + \", Modified Hausdorf = \" + str(mhd))\n"
      ],
      "execution_count": 0,
      "outputs": [
        {
          "output_type": "stream",
          "text": [
            "DSC is 0.9605650382585724, loss is 0.03943496174142758, Hausdorf = 1.7320508075688772, Modified Hausdorf = (0.9006664199358161, 0.8833459118601273, 0.9006664199358161)\n"
          ],
          "name": "stdout"
        }
      ]
    },
    {
      "cell_type": "markdown",
      "metadata": {
        "id": "icF9-AqkpUZ5",
        "colab_type": "text"
      },
      "source": [
        "What about Regression metrics? And image-mapping metrics?"
      ]
    }
  ]
}